{
 "cells": [
  {
   "cell_type": "code",
   "execution_count": 1,
   "id": "9c8197fb",
   "metadata": {},
   "outputs": [
    {
     "name": "stdout",
     "output_type": "stream",
     "text": [
      "Hello, Jupyter!\n"
     ]
    }
   ],
   "source": [
    "print(\"Hello, Jupyter!\")\n"
   ]
  },
  {
   "cell_type": "markdown",
   "id": "c1976dd8",
   "metadata": {},
   "source": [
    "#ここはマークダウン形式\n",
    "##中\n",
    "###小\n",
    "-これでいけてるのか\n",
    "テスト"
   ]
  },
  {
   "cell_type": "markdown",
   "id": "c2f97330",
   "metadata": {},
   "source": [
    "改行<br>\n",
    "改行２  \n",
    "改行3"
   ]
  },
  {
   "cell_type": "markdown",
   "id": "097f74b3",
   "metadata": {},
   "source": [
    "# マークダウン記法を再度テスト<br>\n",
    "## 文字サイズ変わってる？"
   ]
  },
  {
   "cell_type": "markdown",
   "id": "08d8b4f2",
   "metadata": {},
   "source": [
    "- 箇条書きもできるのか\n",
    "- テスト"
   ]
  },
  {
   "cell_type": "markdown",
   "id": "336d06e2",
   "metadata": {},
   "source": [
    "有用そうなURLがあるので貼り付けておく\n",
    "https://qiita.com/starfieldKt/items/ed7dee5142d9d5c177fd\n"
   ]
  },
  {
   "cell_type": "markdown",
   "id": "27d47723",
   "metadata": {},
   "source": [
    "コードセルにMarkdown記法を書くと、JupyterやGitHubでエラーや「invalid notebook」と表示されることがあります。\n",
    "セルの種類（コード/Markdown）は、Jupyter Notebookのメニューやショートカット（Yでコード、MでMarkdown）で切り替えられます。"
   ]
  },
  {
   "cell_type": "code",
   "execution_count": 3,
   "id": "c5e82ee2",
   "metadata": {},
   "outputs": [
    {
     "name": "stdout",
     "output_type": "stream",
     "text": [
      "Hello, Jupyter２\n"
     ]
    }
   ],
   "source": [
    "print(\"Hello, Jupyter２\")\n"
   ]
  }
 ],
 "metadata": {
  "kernelspec": {
   "display_name": "rna_seq",
   "language": "python",
   "name": "python3"
  },
  "language_info": {
   "codemirror_mode": {
    "name": "ipython",
    "version": 3
   },
   "file_extension": ".py",
   "mimetype": "text/x-python",
   "name": "python",
   "nbconvert_exporter": "python",
   "pygments_lexer": "ipython3",
   "version": "3.10.18"
  }
 },
 "nbformat": 4,
 "nbformat_minor": 5
}
